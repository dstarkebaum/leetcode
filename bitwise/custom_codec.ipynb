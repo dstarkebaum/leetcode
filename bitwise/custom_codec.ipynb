{
 "cells": [
  {
   "cell_type": "markdown",
   "metadata": {},
   "source": [
    "# Serialization / Deserialization of Binary Search Tree\n",
    "\n",
    "- Serialization is the process of converting a data structure or object into a sequence of bits so that it can be stored in a file or memory buffer, or transmitted across a network connection link to be reconstructed later in the same or another computer environment.\n",
    "\n",
    "- Design an algorithm to serialize and deserialize a binary search tree. There is no restriction on how your serialization/deserialization algorithm should work. You just need to ensure that a binary search tree can be serialized to a string and this string can be deserialized to the original tree structure.\n",
    "\n",
    "- The encoded string should be **as compact as possible**.\n",
    "\n",
    "- Note: Do not use class member/global/static variables to store states. Your serialize and deserialize algorithms should be stateless.\n",
    "\n",
    "- Note: Although not explicitly stated in the original leetcode problem, the values of the nodes in the BST should all be integers!"
   ]
  },
  {
   "cell_type": "markdown",
   "metadata": {},
   "source": [
    "## Serialization Strategy\n",
    "\n",
    "- The basic approach is to parse the BST in \"pre-order\" fashion: root, left, right\n",
    "\n",
    "- To accomplish this parsing, the following 4 steps are repeated until the whole tree is traversed:\n",
    "\n",
    "  1. each node is added to a stack (for backtracking down the right path later)\n",
    "  \n",
    "  2. The value stored in each node is added to a \"results\" list as the tree is parsed\n",
    "  \n",
    "  3. Keep going down the left branch (collecting values along the way), until you run out of nodes\n",
    "  \n",
    "  4. Then backtrack to the last non-null node, and go one step down the right path\n",
    "  \n",
    "- Once the tree traversal is completed, the values are all converted into strings for serialization\n",
    "\n",
    "- Note: to make the serialized string \"as compact as possible\", a compression algorithm is applied to the integers as they are encoded into strings\n",
    "\n",
    "  - Instead of just storing the numbers in decimal format [0-9], a custom alphabet is used for encoding. \n",
    "  \n",
    "  - The default alphabet includes the numerical digits, along with all letters [A-Z] and [a-z], giving a base 62 encoding\n",
    "    \n",
    "  - Negative numbers are handled with a leading '-' sign\n",
    "  \n",
    "  - Modular division is used to convert the integer into the encoding string, with the remainder of each modular division step translated into one of the characters in codec.ALPHABET\n",
    "  \n",
    "  - The string order is reversed so that it could be \"readable\" from left to right (as most numbers are). This step could be skipped for a bit more optimization if desired...\n",
    "  \n",
    "  - NOTE: A custom alphabet may be defined as an optional argument when constructing the serialization codec\n",
    "\n",
    "- After the list of integers is converted (mapped) into a list of encoded strings, these are joined together with a delimiter (default is \" \", but this may also be customized when constructing the codec)"
   ]
  },
  {
   "cell_type": "markdown",
   "metadata": {},
   "source": [
    "## Deserialization Strategy\n",
    "\n",
    "- First, the string is split into a list of string using the delimiter (default \" \")\n",
    "\n",
    "- Each string is decoded back into an integer using \"codec.my_decoder\"\n",
    "\n",
    "  - Basically, you loop through the string in referse order\n",
    "  \n",
    "  - Convert each character back to a number using a dictionary called \"codec.REVERSE_ALPHABET\"\n",
    "  \n",
    "  - Take the BASE (length of the ALPHABET) to the power of the place number, and multiply it by the character number\n",
    "  \n",
    "  - Add these all up to get the final resulting number\n",
    "  \n",
    "- The root of the tree is created using the first number in the list\n",
    "\n",
    "- A stack is created for backtracking once we have reached the limit down the left branch of the tree\n",
    "\n",
    "- Then the rest of the tree is created by looping through the remaining numbers, using the following steps:\n",
    "\n",
    "  1. If the current number is less than the value stored in the current node (starts at the root):\n",
    "  \n",
    "    - Add the current node to the stack (so we can come back here later)\n",
    "   \n",
    "    - Make a new node to the left, holding the current value\n",
    "   \n",
    "    - Move to that node\n",
    "  \n",
    "  2. If the current number is greater (or equal) to the value stored in the current node:\n",
    "  \n",
    "    - Start popping nodes of the stack until we get the last node with a value less than the current value\n",
    "  \n",
    "    - Make a new node to the right of that last node\n",
    "    \n",
    "    - Move to that node\n",
    "\n",
    "- Once the whole tree has been created (we run out of numbers in our list), then return a reference to the root node"
   ]
  },
  {
   "cell_type": "code",
   "execution_count": 1,
   "metadata": {},
   "outputs": [],
   "source": [
    "# Definition for a binary tree node.\n",
    "class TreeNode(object):\n",
    "     def __init__(self, x):\n",
    "         self.val = x\n",
    "         self.left = None\n",
    "         self.right = None\n",
    "\n",
    "       \n",
    "        \n",
    "        \n",
    "class Codec:\n",
    "    \n",
    "    def __init__(\n",
    "            self, \n",
    "            alphabet = \"0123456789ABCDEFGHIJKLMNOPQRSTUVWXYZabcdefghijklmnopqrstuvwxyz\",\n",
    "            delimiter = \" \",\n",
    "            ):\n",
    "        \n",
    "        self.ALPHABET = alphabet\n",
    "        self.REVERSE_ALPHABET = {char:index for index,char in enumerate(self.ALPHABET)}\n",
    "        self.BASE = len(self.ALPHABET)\n",
    "        self.DELIMITER = delimiter\n",
    "        \n",
    "\n",
    "    def my_encoder(self,n):\n",
    "        if n == 0:\n",
    "            return self.ALPHABET[0].encode('ascii')\n",
    "        stack = []\n",
    "        negative = ''\n",
    "        if n < 0:\n",
    "            n = -n\n",
    "            negative = '-'\n",
    "\n",
    "        while n > 0:\n",
    "            quotient, remainder = divmod(n, self.BASE)\n",
    "            stack.append(self.ALPHABET[remainder])\n",
    "            n = quotient\n",
    "\n",
    "        return negative+''.join(stack)[::-1] # .encode('ascii')\n",
    "\n",
    "    def my_decoder(self,s):\n",
    "        if s is None or s == '':\n",
    "            return 0\n",
    "\n",
    "        negative = False\n",
    "\n",
    "        if '-' == s[0]:\n",
    "            negative = True\n",
    "            s = s[1:]\n",
    "\n",
    "        result = 0\n",
    "\n",
    "        for place, char in enumerate(s[::-1]):\n",
    "            #print('place: '+str(place)+', value: '+str(char))\n",
    "            result += self.BASE**place * self.REVERSE_ALPHABET[char]\n",
    "\n",
    "        return -result if negative else result\n",
    "\n",
    "    def serialize(self, root):\n",
    "        \"\"\"Encodes a tree to a single string.\n",
    "           The tree will be traversed in \"pre-order\" fashion:\n",
    "           (meaning root->left->right at each stage)\n",
    "           The results will be recorded directly as strings\n",
    "           with spaces (\" \") between each number\n",
    "        \n",
    "        :type root: TreeNode\n",
    "        :rtype: str\n",
    "        \"\"\"\n",
    "        # keep a stack of nodes we have traversed past\n",
    "        # so that we can backtrack when we reach the end of a branch\n",
    "        stack = []\n",
    "        # keep track of the values of all of the nodes we have traversed\n",
    "        result = []\n",
    "        # keep track of the current node in the tree (starting at the root)\n",
    "        node = root\n",
    "        \n",
    "        \n",
    "        # as long as the current node is not null\n",
    "        # or there are still nodes left on the stack\n",
    "        while node or stack:\n",
    "            # if the current node is not null\n",
    "            if node:\n",
    "                # add the current node's value\n",
    "                result.append(node.val)\n",
    "                stack.append(node)\n",
    "                node = node.left\n",
    "            else:\n",
    "                node = stack.pop().right\n",
    "        \n",
    "        return self.DELIMITER.join( list( map( self.my_encoder, result ) ) )\n",
    "\n",
    "    def deserialize(self, data):\n",
    "        \"\"\"Decodes your encoded data to tree.\n",
    "        \n",
    "        :type data: str\n",
    "        :rtype: TreeNode\n",
    "        \"\"\"\n",
    "        \n",
    "        if not data:\n",
    "            return\n",
    "        \n",
    "        nums = list( map( self.my_decoder, data.split(self.DELIMITER) ) )\n",
    "        \n",
    "        return self.make_tree(nums)\n",
    "            \n",
    "    def make_tree(self,numbers):\n",
    "        \n",
    "        # make the root\n",
    "        root = node = TreeNode(numbers[0])\n",
    "        stack = []\n",
    "        \n",
    "        for val in numbers[1:]:\n",
    "            \n",
    "            if val < node.val:\n",
    "                node.left = TreeNode(val)\n",
    "                stack.append(node)\n",
    "                node = node.left\n",
    "            else:\n",
    "                while stack and stack[-1].val < val:\n",
    "                    node = stack.pop()\n",
    "                \n",
    "                node.right = TreeNode(val)\n",
    "                \n",
    "                node = node.right\n",
    "                \n",
    "        return root"
   ]
  },
  {
   "cell_type": "code",
   "execution_count": 3,
   "metadata": {},
   "outputs": [
    {
     "name": "stdout",
     "output_type": "stream",
     "text": [
      "K 1m U\n"
     ]
    }
   ],
   "source": [
    "# Your Codec object will be instantiated and called as such:\n",
    "codec = Codec()\n",
    "#codec.deserialize( \n",
    "print(codec.serialize( codec.make_tree([20,110,30]) ) )"
   ]
  },
  {
   "cell_type": "code",
   "execution_count": 4,
   "metadata": {},
   "outputs": [
    {
     "data": {
      "text/plain": [
       "-238327"
      ]
     },
     "execution_count": 4,
     "metadata": {},
     "output_type": "execute_result"
    }
   ],
   "source": [
    "x = -62*62*62+1\n",
    "x"
   ]
  },
  {
   "cell_type": "code",
   "execution_count": 5,
   "metadata": {},
   "outputs": [
    {
     "data": {
      "text/plain": [
       "'-zzz'"
      ]
     },
     "execution_count": 5,
     "metadata": {},
     "output_type": "execute_result"
    }
   ],
   "source": [
    "\n",
    "a = codec.my_encoder(x)\n",
    "a"
   ]
  },
  {
   "cell_type": "code",
   "execution_count": 6,
   "metadata": {},
   "outputs": [
    {
     "data": {
      "text/plain": [
       "-238327"
      ]
     },
     "execution_count": 6,
     "metadata": {},
     "output_type": "execute_result"
    }
   ],
   "source": [
    "b = codec.my_decoder(a)\n",
    "b"
   ]
  },
  {
   "cell_type": "code",
   "execution_count": null,
   "metadata": {},
   "outputs": [],
   "source": []
  }
 ],
 "metadata": {
  "kernelspec": {
   "display_name": "Python 3",
   "language": "python",
   "name": "python3"
  },
  "language_info": {
   "codemirror_mode": {
    "name": "ipython",
    "version": 3
   },
   "file_extension": ".py",
   "mimetype": "text/x-python",
   "name": "python",
   "nbconvert_exporter": "python",
   "pygments_lexer": "ipython3",
   "version": "3.6.8"
  }
 },
 "nbformat": 4,
 "nbformat_minor": 2
}
