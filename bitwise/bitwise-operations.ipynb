{
 "cells": [
  {
   "cell_type": "markdown",
   "metadata": {},
   "source": [
    "# Bitwise Operations\n",
    "\n",
    "- Operations that involves working with two bit-patterns of equal lengths by positionally matching their individual bits\n",
    "\n",
    "- Each bit has a single binary value: 0 or 1. \n",
    "\n",
    "- Although computers are capable of manipulating bits, they usually store data and execute instructions in bit multiples called bytes. Most programming languages manipulate groups of 8, 16 or 32 bits.\n",
    "\n",
    "Recall that the value of a bit depends on its position, where digit increases by powers of 2:\n",
    "\n",
    "![1-byte-unsigned](img/1-byte-unsigned.png)\n",
    "\n",
    "Lets consider two numbers, and compare their representation in decimal vs (unsined) byte notation (8 bits):\n"
   ]
  },
  {
   "cell_type": "code",
   "execution_count": 18,
   "metadata": {},
   "outputs": [
    {
     "name": "stdout",
     "output_type": "stream",
     "text": [
      "a: 022 --> 00010110\n",
      "b: 005 --> 00000101\n"
     ]
    }
   ],
   "source": [
    "a = 22\n",
    "b = 5\n",
    "\n",
    "def str_to_bin(name,value):\n",
    "    print(name+\": {n:03d} --> {n:08b}\".format(n=value)) # --> hex: {n:04x}; \n",
    "    \n",
    "str_to_bin('a',a)\n",
    "str_to_bin('b',b)"
   ]
  },
  {
   "cell_type": "markdown",
   "metadata": {},
   "source": [
    "## What are some bitwise operators?\n",
    "\n",
    "### AND (&) \n",
    "\n",
    "- Results in a 1 if the first bit is 1 AND the second bit is 1. \n",
    "\n",
    "- Otherwise the result is zero. \n"
   ]
  },
  {
   "cell_type": "code",
   "execution_count": 19,
   "metadata": {},
   "outputs": [
    {
     "name": "stdout",
     "output_type": "stream",
     "text": [
      "a    : 022 --> 00010110\n",
      "    b: 005 --> 00000101\n",
      "a & b: 004 --> 00000100\n"
     ]
    }
   ],
   "source": [
    "str_to_bin('a    ',a)\n",
    "str_to_bin('    b',b)\n",
    "\n",
    "x = a & b\n",
    "str_to_bin('a & b',x)"
   ]
  },
  {
   "cell_type": "markdown",
   "metadata": {},
   "source": [
    "### OR (|) \n",
    "\n",
    "- Results in a 1 if the first bit is 1 OR the second bit is 1. \n",
    "\n",
    "- Otherwise, the result is zero.  \n"
   ]
  },
  {
   "cell_type": "code",
   "execution_count": 20,
   "metadata": {},
   "outputs": [
    {
     "name": "stdout",
     "output_type": "stream",
     "text": [
      "a    : 022 --> 00010110\n",
      "    b: 005 --> 00000101\n",
      "a | b: 023 --> 00010111\n"
     ]
    }
   ],
   "source": [
    "str_to_bin('a    ',a)\n",
    "str_to_bin('    b',b)\n",
    "\n",
    "x = a | b\n",
    "str_to_bin('a | b',x)"
   ]
  },
  {
   "cell_type": "markdown",
   "metadata": {},
   "source": [
    "###  XOR (^) \n",
    "\n",
    "- Results in a 1 if the two bits are different, and 0 if they are the same.\n",
    "\n"
   ]
  },
  {
   "cell_type": "code",
   "execution_count": 21,
   "metadata": {},
   "outputs": [
    {
     "name": "stdout",
     "output_type": "stream",
     "text": [
      "a    : 022 --> 00010110\n",
      "b    : 005 --> 00000101\n",
      "a ^ b: 019 --> 00010011\n"
     ]
    }
   ],
   "source": [
    "str_to_bin('a    ',a)\n",
    "str_to_bin('b    ',b)\n",
    "\n",
    "x = a ^ b\n",
    "str_to_bin('a ^ b',x)"
   ]
  },
  {
   "cell_type": "markdown",
   "metadata": {},
   "source": [
    "### Left Shift (<<)\n",
    "\n",
    "- The left operands value is moved left by the number of bits specified by the right operand."
   ]
  },
  {
   "cell_type": "code",
   "execution_count": 22,
   "metadata": {},
   "outputs": [
    {
     "name": "stdout",
     "output_type": "stream",
     "text": [
      "a    : 022 --> 00010110\n",
      "a<<2 : 088 --> 01011000\n",
      "b    : 005 --> 00000101\n",
      "b<<2 : 020 --> 00010100\n"
     ]
    }
   ],
   "source": [
    "str_to_bin('a    ',a)\n",
    "x = a << 2\n",
    "str_to_bin('a<<2 ',x)\n",
    "\n",
    "str_to_bin('b    ',b)\n",
    "x = b << 2\n",
    "str_to_bin('b<<2 ',x)"
   ]
  },
  {
   "cell_type": "markdown",
   "metadata": {},
   "source": [
    "### Right Shift (>>)\n",
    "\n",
    "- The left operands value is moved left by the number of bits specified by the right operand."
   ]
  },
  {
   "cell_type": "code",
   "execution_count": 24,
   "metadata": {},
   "outputs": [
    {
     "name": "stdout",
     "output_type": "stream",
     "text": [
      "a    : 022 --> 00010110\n",
      "a>>2 : 005 --> 00000101\n",
      "b    : 005 --> 00000101\n",
      "b>>2 : 001 --> 00000001\n"
     ]
    }
   ],
   "source": [
    "str_to_bin('a    ',a)\n",
    "#x = a >> 2\n",
    "x = a // 4\n",
    "str_to_bin('a>>2 ',x)\n",
    "\n",
    "str_to_bin('b    ',b)\n",
    "x = b >> 2\n",
    "str_to_bin('b>>2 ',x)"
   ]
  },
  {
   "cell_type": "markdown",
   "metadata": {},
   "source": [
    "\n",
    "## Unary Operators (on a single string of bits)\n",
    "\n",
    "### Ones Complement (~)\n",
    "\n",
    "- 'flip the bits'"
   ]
  },
  {
   "cell_type": "code",
   "execution_count": 25,
   "metadata": {},
   "outputs": [
    {
     "name": "stdout",
     "output_type": "stream",
     "text": [
      "a    : 022 --> 00010110\n",
      " ~ a : -23 --> -0010111\n",
      "b    : 005 --> 00000101\n",
      " ~ b : -06 --> -0000110\n"
     ]
    }
   ],
   "source": [
    "str_to_bin('a    ',a)\n",
    "x = ~ a\n",
    "str_to_bin(' ~ a ',x)\n",
    "\n",
    "str_to_bin('b    ',b)\n",
    "x = ~ b\n",
    "str_to_bin(' ~ b ',x)"
   ]
  },
  {
   "cell_type": "markdown",
   "metadata": {},
   "source": [
    "\n",
    "- What's going on here? Why did we suddently get negative numbers???\n",
    "\n",
    "- To understand, we must examine the system used to encode numbers in Python, called \"2's Complement\"\n",
    "\n",
    "## Two's Complement\n",
    "\n",
    "- Used in computing as a method of signed number representation.\n",
    "\n",
    "- To encode a negative number, essentially, you ask:\n",
    "\n",
    "  - How can I add two numbers together so that the result become zero?\n",
    "  \n",
    "  - The simplest way to implement is to \"flip the bits\" and add one!\n",
    "\n",
    "![twos-complement](img/twos-complement.png)\n"
   ]
  },
  {
   "cell_type": "code",
   "execution_count": 27,
   "metadata": {},
   "outputs": [
    {
     "name": "stdout",
     "output_type": "stream",
     "text": [
      "a     : 022 --> 00010110\n",
      "c     : -22 --> -0010110\n",
      "a+(-a): 000 --> 00000000\n",
      "~a + 1: -22 --> -0010110\n",
      "( -a == ~a + 1 ): True\n"
     ]
    }
   ],
   "source": [
    "# a = 11\n",
    "c = -a # -11\n",
    "str_to_bin('a     ',a)\n",
    "str_to_bin('c     ',c)\n",
    "x = a + c\n",
    "str_to_bin('a+(-a)',x)\n",
    "d = ~ a + 1\n",
    "str_to_bin('~a + 1',d)\n",
    "\n",
    "print('( -a == ~a + 1 ): '+ str(-a==~a+1))"
   ]
  },
  {
   "cell_type": "markdown",
   "metadata": {},
   "source": [
    "## Using numpy:\n",
    "\n",
    "One easy way to get the full binary representation of a number is with the numpy package:"
   ]
  },
  {
   "cell_type": "code",
   "execution_count": 28,
   "metadata": {},
   "outputs": [
    {
     "data": {
      "text/plain": [
       "'00010110'"
      ]
     },
     "execution_count": 28,
     "metadata": {},
     "output_type": "execute_result"
    }
   ],
   "source": [
    "import numpy as np\n",
    "np.binary_repr(a,8)"
   ]
  },
  {
   "cell_type": "code",
   "execution_count": 29,
   "metadata": {},
   "outputs": [
    {
     "data": {
      "text/plain": [
       "'11101010'"
      ]
     },
     "execution_count": 29,
     "metadata": {},
     "output_type": "execute_result"
    }
   ],
   "source": [
    "np.binary_repr(-a,8)"
   ]
  },
  {
   "cell_type": "code",
   "execution_count": 30,
   "metadata": {},
   "outputs": [
    {
     "data": {
      "text/plain": [
       "'11101001'"
      ]
     },
     "execution_count": 30,
     "metadata": {},
     "output_type": "execute_result"
    }
   ],
   "source": [
    "np.binary_repr(~a,8)"
   ]
  },
  {
   "cell_type": "markdown",
   "metadata": {},
   "source": [
    "## Applications\n",
    "\n",
    "So, what can we use all of this for???\n",
    "\n",
    "https://leetcode.com/problems/single-number/\n",
    "\n",
    "Ex: \"Given a non-empty array of integers, every element appears twice except for one. Find that single one.\"\n",
    "\n",
    " - Your algorithm should have a linear runtime complexity. \n",
    " \n",
    " - Could you implement it without using extra memory?"
   ]
  },
  {
   "cell_type": "code",
   "execution_count": 3,
   "metadata": {},
   "outputs": [],
   "source": [
    "def singleNumber(nums):\n",
    "    \n",
    "    # One way to solve this is to use a set...\n",
    "    no_dupes = set()\n",
    "    \n",
    "    for i in nums:\n",
    "        # Everytime we see a new number, then add it to the set\n",
    "        if i not in no_dupes:\n",
    "            no_dupes.add(i)\n",
    "        \n",
    "        # If the number is already there, then delete the entry from the set\n",
    "        else:\n",
    "            no_dupes.discard(i)\n",
    "            \n",
    "    # Every pair should have been deleted, so all that is left is a single number\n",
    "    return no_dupes.pop()"
   ]
  },
  {
   "cell_type": "code",
   "execution_count": 31,
   "metadata": {},
   "outputs": [
    {
     "name": "stdout",
     "output_type": "stream",
     "text": [
      "singleNumber = 2\n"
     ]
    }
   ],
   "source": [
    "print('singleNumber = '+ str(singleNumber([2,3,4,5,3,4,1,1,5])))"
   ]
  },
  {
   "cell_type": "code",
   "execution_count": 32,
   "metadata": {},
   "outputs": [
    {
     "name": "stdout",
     "output_type": "stream",
     "text": [
      "lone number = 2\n"
     ]
    }
   ],
   "source": [
    "from timeit import timeit\n",
    "\n",
    "def findLoneNumber(numbers):\n",
    "    \n",
    "    # Another way to solve it is to use bitwise operations!\n",
    "    result = 0\n",
    "    \n",
    "    for num in numbers:\n",
    "        \n",
    "        result ^= num\n",
    "    \n",
    "    return result\n",
    "\n",
    "print('lone number = '+str(findLoneNumber([2,3,4,5,3,4,1,1,5])))\n",
    "\n",
    "\n",
    "\n",
    "# XOR with zero gives the same number back (since 0 XOR 1 == 1)\n",
    "# XOR of a number with itself gives zero (Ex: 1010 XOR 1010 == 0000)\n",
    "# XOR of two different numbers gives a third number,\n",
    "#   but XOR with either of those numbers again removes it,\n",
    "#   and gives the second number back!\n",
    "#  (Ex: 1010 XOR 0110 == 1100, then 1100 XOR 0110 == 1010)"
   ]
  },
  {
   "cell_type": "code",
   "execution_count": 33,
   "metadata": {},
   "outputs": [
    {
     "name": "stdout",
     "output_type": "stream",
     "text": [
      "The slowest run took 5.39 times longer than the fastest. This could mean that an intermediate result is being cached.\n",
      "1000000 loops, best of 3: 921 ns per loop\n"
     ]
    }
   ],
   "source": [
    "%timeit findLoneNumber([2,3,4,5,3,4,1,1,5])"
   ]
  },
  {
   "cell_type": "code",
   "execution_count": 34,
   "metadata": {},
   "outputs": [
    {
     "name": "stdout",
     "output_type": "stream",
     "text": [
      "The slowest run took 4.86 times longer than the fastest. This could mean that an intermediate result is being cached.\n",
      "1000000 loops, best of 3: 1.58 µs per loop\n"
     ]
    }
   ],
   "source": [
    "%timeit singleNumber([2,3,4,5,3,4,1,1,5])"
   ]
  },
  {
   "cell_type": "code",
   "execution_count": 35,
   "metadata": {},
   "outputs": [
    {
     "name": "stdout",
     "output_type": "stream",
     "text": [
      "missing element: 7338\n",
      "lone number: 7338\n"
     ]
    }
   ],
   "source": [
    "import random\n",
    "\n",
    "random_list = list(range(10000))\n",
    "random.shuffle(random_list)\n",
    "\n",
    "combined_list = random_list + random_list[1:]\n",
    "random.shuffle(combined_list)\n",
    "\n",
    "print('missing element: '+str(random_list[0]))\n",
    "print('lone number: '+ str(findLoneNumber(combined_list)))\n"
   ]
  },
  {
   "cell_type": "code",
   "execution_count": 36,
   "metadata": {},
   "outputs": [
    {
     "name": "stdout",
     "output_type": "stream",
     "text": [
      "The slowest run took 7.28 times longer than the fastest. This could mean that an intermediate result is being cached.\n",
      "1000 loops, best of 3: 1.37 ms per loop\n"
     ]
    }
   ],
   "source": [
    "%timeit findLoneNumber(combined_list)"
   ]
  },
  {
   "cell_type": "code",
   "execution_count": 37,
   "metadata": {},
   "outputs": [
    {
     "name": "stdout",
     "output_type": "stream",
     "text": [
      "100 loops, best of 3: 2.91 ms per loop\n"
     ]
    }
   ],
   "source": [
    "%timeit singleNumber(combined_list)"
   ]
  },
  {
   "cell_type": "markdown",
   "metadata": {},
   "source": [
    "So, why does this work???\n",
    "\n",
    "- If two numbers are the same, then the XOR operator returns 0 (essentially \"false\" for every bit)\n",
    "\n",
    "- If you appy the XOR operator to a number and zero: 10 ^ 0, then you get the same number back\n"
   ]
  },
  {
   "cell_type": "code",
   "execution_count": 38,
   "metadata": {},
   "outputs": [
    {
     "name": "stdout",
     "output_type": "stream",
     "text": [
      "0      : 000 --> 00000000\n",
      "10     : 010 --> 00001010\n",
      "0^10   : 010 --> 00001010\n",
      "10^10  : 000 --> 00000000\n",
      "6      : 006 --> 00000110\n",
      "10     : 010 --> 00001010\n",
      "10^6   : 012 --> 00001100\n",
      "10^6^10: 006 --> 00000110\n"
     ]
    }
   ],
   "source": [
    "\n",
    "str_to_bin('0      ',0)\n",
    "str_to_bin('10     ',10)\n",
    "str_to_bin('0^10   ',0^10)\n",
    "str_to_bin('10^10  ',10^10)\n",
    "str_to_bin('6      ',6)\n",
    "str_to_bin('10     ',10)\n",
    "str_to_bin('10^6   ',10^6)\n",
    "str_to_bin('10^6^10',10^6^10)"
   ]
  },
  {
   "cell_type": "code",
   "execution_count": 39,
   "metadata": {},
   "outputs": [
    {
     "name": "stdout",
     "output_type": "stream",
     "text": [
      "10         : 010 --> 00001010\n",
      "6          : 006 --> 00000110\n",
      "7          : 007 --> 00000111\n",
      "10^6       : 012 --> 00001100\n",
      "10^6^7     : 011 --> 00001011\n",
      "10^6^7^6   : 013 --> 00001101\n",
      "10^7       : 013 --> 00001101\n",
      "10^6^7^6^10: 007 --> 00000111\n"
     ]
    }
   ],
   "source": [
    "\n",
    "str_to_bin('10         ',10)\n",
    "str_to_bin('6          ',6)\n",
    "str_to_bin('7          ',7)\n",
    "str_to_bin('10^6       ',10^6)\n",
    "str_to_bin('10^6^7     ',10^6^7)\n",
    "str_to_bin('10^6^7^6   ',10^6^7^6)\n",
    "str_to_bin('10^7       ',10^7)\n",
    "str_to_bin('10^6^7^6^10',10^6^7^6^10)\n"
   ]
  },
  {
   "cell_type": "code",
   "execution_count": null,
   "metadata": {},
   "outputs": [],
   "source": []
  }
 ],
 "metadata": {
  "kernelspec": {
   "display_name": "Python 3",
   "language": "python",
   "name": "python3"
  },
  "language_info": {
   "codemirror_mode": {
    "name": "ipython",
    "version": 3
   },
   "file_extension": ".py",
   "mimetype": "text/x-python",
   "name": "python",
   "nbconvert_exporter": "python",
   "pygments_lexer": "ipython3",
   "version": "3.6.8"
  }
 },
 "nbformat": 4,
 "nbformat_minor": 2
}
